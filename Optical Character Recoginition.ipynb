{
 "cells": [
  {
   "cell_type": "code",
   "execution_count": 74,
   "id": "7ffb66ee",
   "metadata": {},
   "outputs": [],
   "source": [
    "# SIMPLE CODE FOR USING pytesseract AND cv2 PACKAGES TO MAKE OPTICAL CHARACTER RECOGINITION  AND EXTRACT DATA FROM AN IMAGE\n",
    "\n",
    "\n"
   ]
  },
  {
   "cell_type": "code",
   "execution_count": 81,
   "id": "28d86fa0",
   "metadata": {},
   "outputs": [],
   "source": [
    "\n",
    "import pytesseract\n",
    "import cv2\n",
    "pytesseract.pytesseract.tesseract_cmd =\"C:\\\\Program Files\\\\Tesseract-OCR\\\\tesseract.exe\"\n",
    "\n",
    "\n"
   ]
  },
  {
   "cell_type": "code",
   "execution_count": 82,
   "id": "fcaf9282",
   "metadata": {
    "scrolled": false
   },
   "outputs": [
    {
     "name": "stdout",
     "output_type": "stream",
     "text": [
      "[[[251 251 251]\n",
      "  [253 253 253]\n",
      "  [253 253 253]\n",
      "  ...\n",
      "  [251 251 251]\n",
      "  [252 252 252]\n",
      "  [255 255 255]]\n",
      "\n",
      " [[247 247 247]\n",
      "  [255 255 255]\n",
      "  [239 239 239]\n",
      "  ...\n",
      "  [255 255 255]\n",
      "  [231 231 231]\n",
      "  [255 255 255]]\n",
      "\n",
      " [[255 255 255]\n",
      "  [246 246 246]\n",
      "  [127 127 127]\n",
      "  ...\n",
      "  [255 255 255]\n",
      "  [255 255 255]\n",
      "  [255 255 255]]\n",
      "\n",
      " ...\n",
      "\n",
      " [[245 245 245]\n",
      "  [255 255 255]\n",
      "  [252 252 252]\n",
      "  ...\n",
      "  [255 255 255]\n",
      "  [244 244 244]\n",
      "  [255 255 255]]\n",
      "\n",
      " [[255 255 255]\n",
      "  [233 233 233]\n",
      "  [252 252 252]\n",
      "  ...\n",
      "  [251 251 251]\n",
      "  [240 240 240]\n",
      "  [255 255 255]]\n",
      "\n",
      " [[253 253 253]\n",
      "  [253 253 253]\n",
      "  [253 253 253]\n",
      "  ...\n",
      "  [253 253 253]\n",
      "  [253 253 253]\n",
      "  [255 255 255]]]\n"
     ]
    }
   ],
   "source": [
    "image = cv2.imread(\"OCR.jpg\")\n",
    "\n",
    "\n",
    "print(image)\n"
   ]
  },
  {
   "cell_type": "code",
   "execution_count": 83,
   "id": "635dd37e",
   "metadata": {},
   "outputs": [],
   "source": [
    "imgrgb = cv2.cvtColor(image, cv2.COLOR_RGB2GRAY)\n",
    "\n",
    "\n"
   ]
  },
  {
   "cell_type": "code",
   "execution_count": 84,
   "id": "29f64c6c",
   "metadata": {
    "scrolled": false
   },
   "outputs": [
    {
     "name": "stdout",
     "output_type": "stream",
     "text": [
      "ABCDE\n",
      "FGHIJ\n",
      "KLMNO\n",
      "PQRST\n",
      "\n"
     ]
    }
   ],
   "source": [
    "\n",
    "\n",
    "\n",
    "print(pytesseract.image_to_string(imgrgb))\n",
    "\n",
    "\n",
    "\n",
    "\n"
   ]
  },
  {
   "cell_type": "code",
   "execution_count": null,
   "id": "90e6d88b",
   "metadata": {},
   "outputs": [],
   "source": []
  },
  {
   "cell_type": "code",
   "execution_count": 85,
   "id": "c7786d2f",
   "metadata": {},
   "outputs": [
    {
     "data": {
      "text/plain": [
       "-1"
      ]
     },
     "execution_count": 85,
     "metadata": {},
     "output_type": "execute_result"
    }
   ],
   "source": [
    "\n",
    "\n",
    "cv2.imshow(\"Input Image\", image)\n",
    "cv2.waitKey(0)\n",
    "\n"
   ]
  },
  {
   "cell_type": "code",
   "execution_count": 80,
   "id": "0b035f24",
   "metadata": {},
   "outputs": [
    {
     "name": "stdout",
     "output_type": "stream",
     "text": [
      "Done....\n"
     ]
    }
   ],
   "source": [
    "print(\"Done....\")"
   ]
  },
  {
   "cell_type": "code",
   "execution_count": null,
   "id": "a7a35219",
   "metadata": {},
   "outputs": [],
   "source": []
  },
  {
   "cell_type": "code",
   "execution_count": null,
   "id": "17b3a2ba",
   "metadata": {},
   "outputs": [],
   "source": []
  },
  {
   "cell_type": "code",
   "execution_count": null,
   "id": "5fab442b",
   "metadata": {},
   "outputs": [],
   "source": []
  }
 ],
 "metadata": {
  "kernelspec": {
   "display_name": "Python 3 (ipykernel)",
   "language": "python",
   "name": "python3"
  },
  "language_info": {
   "codemirror_mode": {
    "name": "ipython",
    "version": 3
   },
   "file_extension": ".py",
   "mimetype": "text/x-python",
   "name": "python",
   "nbconvert_exporter": "python",
   "pygments_lexer": "ipython3",
   "version": "3.9.12"
  }
 },
 "nbformat": 4,
 "nbformat_minor": 5
}
